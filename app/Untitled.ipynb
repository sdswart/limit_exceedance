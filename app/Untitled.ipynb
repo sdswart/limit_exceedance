{
 "cells": [
  {
   "cell_type": "code",
   "execution_count": 113,
   "id": "fb28324c",
   "metadata": {},
   "outputs": [],
   "source": [
    "import numpy as np\n",
    "import json\n",
    "from datetime import datetime, timedelta"
   ]
  },
  {
   "cell_type": "code",
   "execution_count": 171,
   "id": "ebef70ff",
   "metadata": {},
   "outputs": [],
   "source": [
    "def get_urgency_priorities(limits):\n",
    "    urgencies=[]\n",
    "    for limit in limits:\n",
    "        level_key=([key for key in limit.keys() if 'level' in key.lower()]+[None])[0]\n",
    "        if level_key is not None:\n",
    "            limit_levels=limit[level_key]\n",
    "            for x in limit_levels:\n",
    "                x['upperlower']=x.get('Upper') or x.get('upper') or -x.get('Lower') or -x.get('lower')\n",
    "            limit_levels=sorted([x for x in limit_levels if x['upperlower'] is not None],key=lambda x: x['upperlower'])\n",
    "            \n",
    "            for limitlevel in limit_levels:\n",
    "                cur_urgency=limitlevel.get('Urgency') or limitlevel.get('urgency')\n",
    "                if cur_urgency is not None and cur_urgency.lower() not in urgencies:\n",
    "                    urgencies.append(cur_urgency.lower())\n",
    "    return urgencies\n",
    "\n",
    "def get_equipment_limits(equipment_id,limits,property_name):\n",
    "    levels=dict(upper=[],lower=[],urgency=[])\n",
    "    for limit in limits:\n",
    "        limit_equipment=limit.get('Equipment') or limit.get('equipment')\n",
    "        if type(limit_equipment) not in [list,tuple,np.ndarray]:\n",
    "            limit_equipment=[limit_equipment]\n",
    "        if limit_equipment is None or equipment_id in limit_equipment:\n",
    "            prop = limit.get('Property') or limit.get('property')\n",
    "            level_key=([key for key in limit.keys() if 'level' in key.lower()]+[None])[0]\n",
    "            if prop is not None and level_key is not None and prop.lower()==property_name.lower():\n",
    "                for limitlevel in limit[level_key]:\n",
    "                    levels['upper'].append(limitlevel.get('Upper') or limitlevel.get('upper') or np.inf)\n",
    "                    levels['lower'].append(limitlevel.get('Lower') or limitlevel.get('lower') or -np.inf)\n",
    "                    levels['urgency'].append(limitlevel.get('Urgency') or limitlevel.get('urgency'))\n",
    "    return {key:np.array(vals) for key,vals in levels.items()}\n",
    "\n",
    "def predict(config,samples,limits):\n",
    "    #Loop through samples\n",
    "    cur_t=0;cur_urgency=None;cur_sample=None\n",
    "    conditions=[]\n",
    "    ordered_urgencies=get_urgency_priorities(limits)\n",
    "    conditions=[]\n",
    "    for sample in samples:\n",
    "        sample_equipment=sample.get('Equipment') or sample.get('equipment')\n",
    "        if type(sample_equipment) not in [list,tuple,np.ndarray]:\n",
    "            sample_equipment=[sample_equipment]\n",
    "        data = sample.get('Data') or sample.get('data')\n",
    "\n",
    "        if data:\n",
    "            for property_name, values in data.items():\n",
    "                t,y=zip(*[(x['t'],x['y']) for x in sorted(values,key=lambda x: x['t'])])\n",
    "                y=np.array(y)\n",
    "                t=np.array(t)\n",
    "\n",
    "                for equipment_id in sample_equipment:\n",
    "                    equipment_limits = get_equipment_limits(equipment_id,limits,property_name)\n",
    "                    y_upper=y-equipment_limits['upper'].reshape((-1,1))\n",
    "                    y_lower=equipment_limits['lower'].reshape((-1,1))-y\n",
    "                    y_all=np.vstack([y_upper,y_lower])\n",
    "                    y_all=np.where(np.logical_or(np.isnan(y_all),y_all<0),np.inf,y_all)\n",
    "                    pos=~np.all(np.isinf(y_all),axis=0)\n",
    "                    ind=np.argmin(y_all,axis=0)\n",
    "                    urgency=np.tile(equipment_limits['urgency'],2)\n",
    "                    cur_conditions=np.where(pos,urgency[ind],None)\n",
    "                    \n",
    "                    prev_cond=None\n",
    "                    for t,condition in zip(t[pos],urgency[ind][pos]):\n",
    "                        if prev_cond is None or condition!=prev_cond:\n",
    "                            conditions.append({\n",
    "                                'Equipment_id':equipment_id,\n",
    "                                'Property':property_name,\n",
    "                                'Sample':sample['_id'],\n",
    "                                'Condition':condition,\n",
    "                                'Timestamp':t,\n",
    "                                'Version':config.VERSION,\n",
    "                                'Extra':(config.EXTRA_RETURN_ARGS if config.EXTRA_RETURN_ARGS else {}),\n",
    "                            })\n",
    "                            prev_cond=condition\n",
    "    #Clean up\n",
    "    conditions=sorted(conditions,key=lambda x: x['Timestamp'])\n",
    "    res=[]\n",
    "    for condition in conditions:\n",
    "        prev_cond=[x for x in res if x['Timestamp']<=condition['Timestamp'] and x['Equipment_id']<=condition['Equipment_id']]\n",
    "        if len(prev_cond)==0 or (condition['Property']==prev_cond[-1]['Property'] and condition['Condition']!=prev_cond[-1]['Condition']) or (condition['Property']!=prev_cond[-1]['Property'] and ordered_urgencies.index(condition['Condition'].lower())>ordered_urgencies.index(prev_cond[-1]['Condition'].lower())):\n",
    "            res.append(condition)\n",
    "    return res"
   ]
  },
  {
   "cell_type": "code",
   "execution_count": 173,
   "id": "9bf30a83",
   "metadata": {},
   "outputs": [
    {
     "data": {
      "text/plain": [
       "([{'_id': 0,\n",
       "   'Sensor': 5,\n",
       "   'Equipment': 1,\n",
       "   'Data': {'Counts': [{'t': 0, 'y': 12},\n",
       "     {'t': 1, 'y': 23},\n",
       "     {'t': 2, 'y': 38},\n",
       "     {'t': 3, 'y': 54},\n",
       "     {'t': 4, 'y': 62},\n",
       "     {'t': 5, 'y': 74},\n",
       "     {'t': 6, 'y': 82},\n",
       "     {'t': 7, 'y': 90},\n",
       "     {'t': 8, 'y': 100},\n",
       "     {'t': 9, 'y': 110},\n",
       "     {'t': 10, 'y': 122},\n",
       "     {'t': 11, 'y': 130},\n",
       "     {'t': 12, 'y': 140},\n",
       "     {'t': 13, 'y': 149},\n",
       "     {'t': 14, 'y': 160},\n",
       "     {'t': 15, 'y': 175},\n",
       "     {'t': 16, 'y': 183},\n",
       "     {'t': 17, 'y': 194},\n",
       "     {'t': 18, 'y': 205},\n",
       "     {'t': 19, 'y': 211}],\n",
       "    'Power': [{'t': 0.0, 'y': 13.463096296890843},\n",
       "     {'t': 4.75, 'y': 60.63104533160135},\n",
       "     {'t': 9.5, 'y': 86.03547228449744},\n",
       "     {'t': 14.25, 'y': 54.2183568231845},\n",
       "     {'t': 19.0, 'y': 24.743291066523433}]}}],\n",
       " [{'_id': 0,\n",
       "   'Equipment': 1,\n",
       "   'Property': 'Counts',\n",
       "   'Admin': True,\n",
       "   'LimitLevel': [{'_id': 1,\n",
       "     'Limit': 1,\n",
       "     'Lower': None,\n",
       "     'Upper': 50,\n",
       "     'Urgency': 'Low Warning'},\n",
       "    {'_id': 2,\n",
       "     'Limit': 1,\n",
       "     'Lower': None,\n",
       "     'Upper': 150,\n",
       "     'Urgency': 'Low Alarm'}]},\n",
       "  {'_id': 1,\n",
       "   'Equipment': 1,\n",
       "   'Property': 'Power',\n",
       "   'Admin': True,\n",
       "   'LimitLevel': [{'_id': 1,\n",
       "     'Limit': 1,\n",
       "     'Lower': 10,\n",
       "     'Upper': 50,\n",
       "     'Urgency': 'Low Warning'},\n",
       "    {'_id': 2,\n",
       "     'Limit': 1,\n",
       "     'Lower': None,\n",
       "     'Upper': 80,\n",
       "     'Urgency': 'Low Alarm'}]}])"
      ]
     },
     "execution_count": 173,
     "metadata": {},
     "output_type": "execute_result"
    }
   ],
   "source": [
    "pdays=5\n",
    "days=20\n",
    "s_per_day=60*60*24\n",
    "equipment=[1]\n",
    "\n",
    "samples=[]\n",
    "limits=[]\n",
    "for sample_id,eqid in enumerate(equipment):\n",
    "    \n",
    "    tsnow=datetime.timestamp(datetime.now())\n",
    "\n",
    "    t=np.linspace(tsnow-(s_per_day*days),tsnow,s_per_day)\n",
    "    t=np.arange(days)\n",
    "    counts=np.cumsum(np.random.poisson(10,days))\n",
    "    t_p=np.linspace(t[0],t[-1],pdays)#-(s_per_day/2)\n",
    "    p=np.random.random(pdays)*100\n",
    "    samples.append({\n",
    "        \"_id\":sample_id,\n",
    "        \"Sensor\":5,\n",
    "        \"Equipment\":eqid,\n",
    "        \"Data\":{\n",
    "            'Counts':[{'t':t,'y':y} for t,y in zip(t,counts)],\n",
    "            'Power':[{'t':t,'y':y} for t,y in zip(t_p,p)],\n",
    "        }\n",
    "    })\n",
    "    limits.append({\n",
    "        \"_id\":sample_id,\n",
    "        \"Equipment\":eqid,\n",
    "        \"Property\":\"Counts\",\n",
    "        \"Admin\":True,\n",
    "        \"LimitLevel\":[\n",
    "            {\n",
    "              \"_id\":1,\n",
    "              \"Limit\":1,\n",
    "              \"Lower\":None,\n",
    "              \"Upper\":50,\n",
    "              \"Urgency\":\"Low Warning\"\n",
    "            },\n",
    "            {\n",
    "              \"_id\":2,\n",
    "              \"Limit\":1,\n",
    "              \"Lower\":None,\n",
    "              \"Upper\":150,\n",
    "              \"Urgency\":\"Low Alarm\"\n",
    "            }]\n",
    "    })\n",
    "    limits.append({\n",
    "        \"_id\":sample_id+1,\n",
    "        \"Equipment\":eqid,\n",
    "        \"Property\":\"Power\",\n",
    "        \"Admin\":True,\n",
    "        \"LimitLevel\":[\n",
    "            {\n",
    "              \"_id\":1,\n",
    "              \"Limit\":1,\n",
    "              \"Lower\":10,\n",
    "              \"Upper\":50,\n",
    "              \"Urgency\":\"Low Warning\"\n",
    "            },\n",
    "            {\n",
    "              \"_id\":2,\n",
    "              \"Limit\":1,\n",
    "              \"Lower\":None,\n",
    "              \"Upper\":80,\n",
    "              \"Urgency\":\"Low Alarm\"\n",
    "            }]\n",
    "    })\n",
    "samples,limits"
   ]
  },
  {
   "cell_type": "code",
   "execution_count": 157,
   "id": "dd8a5800",
   "metadata": {},
   "outputs": [
    {
     "data": {
      "text/plain": [
       "['low warning', 'low alarm']"
      ]
     },
     "execution_count": 157,
     "metadata": {},
     "output_type": "execute_result"
    }
   ],
   "source": [
    "get_urgency_priorities(limits)"
   ]
  },
  {
   "cell_type": "code",
   "execution_count": 175,
   "id": "e8a50065",
   "metadata": {},
   "outputs": [
    {
     "data": {
      "text/plain": [
       "[{'Equipment_id': 1,\n",
       "  'Property': 'Counts',\n",
       "  'Sample': 0,\n",
       "  'Condition': 'Low Warning',\n",
       "  'Timestamp': 3,\n",
       "  'Version': 1,\n",
       "  'Extra': {}},\n",
       " {'Equipment_id': 1,\n",
       "  'Property': 'Power',\n",
       "  'Sample': 0,\n",
       "  'Condition': 'Low Alarm',\n",
       "  'Timestamp': 9.5,\n",
       "  'Version': 1,\n",
       "  'Extra': {}},\n",
       " {'Equipment_id': 1,\n",
       "  'Property': 'Power',\n",
       "  'Sample': 0,\n",
       "  'Condition': 'Low Warning',\n",
       "  'Timestamp': 14.25,\n",
       "  'Version': 1,\n",
       "  'Extra': {}}]"
      ]
     },
     "execution_count": 175,
     "metadata": {},
     "output_type": "execute_result"
    }
   ],
   "source": [
    "predict(config,samples,limits)"
   ]
  },
  {
   "cell_type": "code",
   "execution_count": 152,
   "id": "c6f2583c",
   "metadata": {},
   "outputs": [
    {
     "data": {
      "text/plain": [
       "array([[False,  True,  True,  True,  True,  True,  True,  True],\n",
       "       [False, False, False, False, False,  True,  True,  True]])"
      ]
     },
     "execution_count": 152,
     "metadata": {},
     "output_type": "execute_result"
    }
   ],
   "source": [
    "y>equipment_limits['upper'].reshape((-1,1))"
   ]
  },
  {
   "cell_type": "code",
   "execution_count": 74,
   "id": "ead1bb4d",
   "metadata": {},
   "outputs": [
    {
     "data": {
      "text/plain": [
       "array(['Low Warning', 'Low Warning', 'Low Warning', 'Low Warning',\n",
       "       'Low Warning', 'Low Alarm', 'Low Alarm', 'Low Alarm'], dtype='<U11')"
      ]
     },
     "execution_count": 74,
     "metadata": {},
     "output_type": "execute_result"
    }
   ],
   "source": [
    "y_upper=y-equipment_limits['upper'].reshape((-1,1))\n",
    "y_lower=equipment_limits['lower'].reshape((-1,1))-y\n",
    "y_all=np.vstack([y_upper,y_lower])\n",
    "y_all=np.where(y_all<0,np.inf,y_all)\n",
    "pos=~np.all(np.isinf(y_all),axis=0)\n",
    "pos,np.argmin(y_all,axis=0)\n",
    "ind=np.argmin(y_all,axis=0)\n",
    "urgency=np.tile(equipment_limits['urgency'],2)\n",
    "urgency[ind]"
   ]
  },
  {
   "cell_type": "code",
   "execution_count": 50,
   "id": "2160472b",
   "metadata": {},
   "outputs": [
    {
     "data": {
      "text/plain": [
       "array([[   5.,  -43.,  -52.,  -76.,  -85.,  -95.,  -97., -110.],\n",
       "       [ -55., -103., -112., -136., -145., -155., -157., -170.]])"
      ]
     },
     "execution_count": 50,
     "metadata": {},
     "output_type": "execute_result"
    }
   ],
   "source": [
    "equipment_limits['lower'].reshape((-1,1))-y"
   ]
  },
  {
   "cell_type": "code",
   "execution_count": null,
   "id": "5593da5a",
   "metadata": {},
   "outputs": [],
   "source": []
  }
 ],
 "metadata": {
  "hide_input": false,
  "kernelspec": {
   "display_name": "Python 3",
   "language": "python",
   "name": "python3"
  },
  "language_info": {
   "codemirror_mode": {
    "name": "ipython",
    "version": 3
   },
   "file_extension": ".py",
   "mimetype": "text/x-python",
   "name": "python",
   "nbconvert_exporter": "python",
   "pygments_lexer": "ipython3",
   "version": "3.8.8"
  },
  "toc": {
   "base_numbering": 1,
   "nav_menu": {},
   "number_sections": false,
   "sideBar": true,
   "skip_h1_title": false,
   "title_cell": "Table of Contents",
   "title_sidebar": "Contents",
   "toc_cell": false,
   "toc_position": {},
   "toc_section_display": true,
   "toc_window_display": false
  },
  "varInspector": {
   "cols": {
    "lenName": 16,
    "lenType": 16,
    "lenVar": 40
   },
   "kernels_config": {
    "python": {
     "delete_cmd_postfix": "",
     "delete_cmd_prefix": "del ",
     "library": "var_list.py",
     "varRefreshCmd": "print(var_dic_list())"
    },
    "r": {
     "delete_cmd_postfix": ") ",
     "delete_cmd_prefix": "rm(",
     "library": "var_list.r",
     "varRefreshCmd": "cat(var_dic_list()) "
    }
   },
   "types_to_exclude": [
    "module",
    "function",
    "builtin_function_or_method",
    "instance",
    "_Feature"
   ],
   "window_display": false
  }
 },
 "nbformat": 4,
 "nbformat_minor": 5
}
